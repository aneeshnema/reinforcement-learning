{
 "cells": [
  {
   "cell_type": "markdown",
   "metadata": {},
   "source": [
    "## Simple DQN implimentation on Cartpole environment using neural networks"
   ]
  },
  {
   "cell_type": "code",
   "execution_count": 1,
   "metadata": {},
   "outputs": [
    {
     "name": "stderr",
     "output_type": "stream",
     "text": [
      "Using TensorFlow backend.\n"
     ]
    }
   ],
   "source": [
    "import random\n",
    "import gym\n",
    "import numpy as np\n",
    "from collections import deque\n",
    "from keras.models import Sequential, load_model\n",
    "from keras.layers import Dense\n",
    "from keras.optimizers import Adam\n",
    "from keras.callbacks import TensorBoard, ModelCheckpoint, ReduceLROnPlateau"
   ]
  },
  {
   "cell_type": "code",
   "execution_count": 2,
   "metadata": {},
   "outputs": [],
   "source": [
    "#hyper parameters\n",
    "GAMMA = 0.95\n",
    "LEARNING_RATE = 0.001\n",
    "\n",
    "MEMORY_SIZE = 50000\n",
    "BATCH_SIZE = 32\n",
    "\n",
    "EXPLORATION_MAX = 1.0\n",
    "EXPLORATION_MIN = 0.05\n",
    "EXPLORATION_DECAY = 0.995"
   ]
  },
  {
   "cell_type": "code",
   "execution_count": 3,
   "metadata": {},
   "outputs": [],
   "source": [
    "class DeepQNetwort:\n",
    "    def __init__(self, obervation_space, action_space):\n",
    "        self.exploration_rate = EXPLORATION_MAX\n",
    "        self.action_space = action_space\n",
    "        \n",
    "        # memory for experience replay\n",
    "        self.memory = deque(maxlen=MEMORY_SIZE)\n",
    "        \n",
    "        #model creation\n",
    "        self.model = Sequential()\n",
    "        self.model.add(Dense(12, input_shape=(observation_space,), activation=\"relu\"))\n",
    "        self.model.add(Dense(12, activation=\"relu\"))\n",
    "        self.model.add(Dense(12, activation=\"relu\"))\n",
    "        self.model.add(Dense(action_space, activation=\"linear\"))\n",
    "        self.model.compile(loss=\"mse\", optimizer=Adam(lr=LEARNING_RATE))\n",
    "        self.hist = None\n",
    "        #self.reduce_lr = ReduceLROnPlateau(monitor='loss', factor=0.1, patience=8, min_lr=0.0001)\n",
    "        #self.tensorboard = TensorBoard(log_dir='./logs', histogram_freq=0, write_graph=True, write_images=False, update_freq=32768)\n",
    "        #self.checkpoint = ModelCheckpoint(\"model.h5\", monitor=\"loss\", verbose=0, save_best_only=True, mode=\"min\")\n",
    "    \n",
    "    def remember(self, state, action, reward, next_state, done):\n",
    "        # add new experience to the memory\n",
    "        self.memory.append((state, action, reward, next_state, done))\n",
    "    \n",
    "    def act(self, state):\n",
    "        # if gemerated number less than exploration rate, take random action\n",
    "        if np.random.rand() < self.exploration_rate:\n",
    "            return random.randrange(self.action_space)\n",
    "        # else take action according to the qvalue\n",
    "        q_values = self.model.predict(state)\n",
    "        return np.argmax(q_values[0])\n",
    "    \n",
    "    def experience_replay(self):\n",
    "        # check if there are enough memories for experience replay\n",
    "        if len(self.memory) < BATCH_SIZE:\n",
    "            return\n",
    "        \n",
    "        # sample random experiences from the memories\n",
    "        batch = random.sample(self.memory, BATCH_SIZE)\n",
    "        \n",
    "        for state, action, reward, state_next, done in batch:\n",
    "            if done:\n",
    "                # if game ended the best qvalue can only be reward at current state\n",
    "                q_update = reward\n",
    "            else:\n",
    "                # estimate better qvalue for the give s,a using bellman equation\n",
    "                q_update = (reward + GAMMA * np.amax(self.model.predict(state_next)[0]))\n",
    "            # qval predicted by model\n",
    "            q_values = self.model.predict(state)\n",
    "            # update only the predicted qvalue of the given s,a using the better qvalue\n",
    "            q_values[0][action] = q_update\n",
    "            # fit into the model\n",
    "            self.hist = self.model.fit(state, q_values, epochs=1,verbose=0)#, callbacks=[self.reduce_lr], self.tensorboard, self.checkpoint]\n",
    "        \n",
    "        # decay the exploration rate\n",
    "        if self.exploration_rate >  EXPLORATION_MIN:\n",
    "            self.exploration_rate *= EXPLORATION_DECAY"
   ]
  },
  {
   "cell_type": "code",
   "execution_count": 4,
   "metadata": {},
   "outputs": [
    {
     "name": "stdout",
     "output_type": "stream",
     "text": [
      "WARNING:tensorflow:From C:\\Users\\BME-3\\Anaconda3\\envs\\rl\\lib\\site-packages\\tensorflow\\python\\framework\\op_def_library.py:263: colocate_with (from tensorflow.python.framework.ops) is deprecated and will be removed in a future version.\n",
      "Instructions for updating:\n",
      "Colocations handled automatically by placer.\n",
      "Episode: 1 , score: 12WARNING:tensorflow:From C:\\Users\\BME-3\\Anaconda3\\envs\\rl\\lib\\site-packages\\tensorflow\\python\\ops\\math_ops.py:3066: to_int32 (from tensorflow.python.ops.math_ops) is deprecated and will be removed in a future version.\n",
      "Instructions for updating:\n",
      "Use tf.cast instead.\n",
      "Episode: 499 , score: 895"
     ]
    }
   ],
   "source": [
    "env = gym.make('CartPole-v1')\n",
    "done = False\n",
    "observation_space = env.observation_space.shape[0]\n",
    "action_space = env.action_space.n\n",
    "observation = env.reset()\n",
    "reward = 0\n",
    "scores = []\n",
    "\n",
    "network = DeepQNetwort(observation_space, action_space)\n",
    "\n",
    "for episode in range(500):\n",
    "    # reset environent at the start of each episode\n",
    "    state = env.reset()\n",
    "    state = np.reshape(state, [1, observation_space])\n",
    "    done = False\n",
    "    reward = 0\n",
    "    step = 0\n",
    "    while True:\n",
    "        step += 1\n",
    "        # take an action\n",
    "        action = network.act(state)\n",
    "        # get results of that action\n",
    "        next_state, reward, done, info = env.step(action)\n",
    "        next_state = np.reshape(next_state, [1, observation_space])\n",
    "        reward = reward if not done else -reward\n",
    "        # store this experience into memory\n",
    "        network.remember(state, action, reward, next_state, done)\n",
    "        state = next_state\n",
    "        if done:\n",
    "            print(\"\\rEpisode:\", episode,\", score:\" ,step, end=\"\")\n",
    "            scores.append(step)\n",
    "            break\n",
    "        # do experince replay\n",
    "        network.experience_replay()\n",
    "env.close()"
   ]
  },
  {
   "cell_type": "code",
   "execution_count": 16,
   "metadata": {},
   "outputs": [],
   "source": [
    "# save the model\n",
    "from joblib import dump, load \n",
    "dump(scores, 'scores.joblib') \n",
    "network.model.save('model.hdf5')"
   ]
  },
  {
   "cell_type": "code",
   "execution_count": 9,
   "metadata": {},
   "outputs": [
    {
     "data": {
      "text/plain": [
       "[<matplotlib.lines.Line2D at 0x2103bab2550>]"
      ]
     },
     "execution_count": 9,
     "metadata": {},
     "output_type": "execute_result"
    },
    {
     "data": {
      "image/png": "[encoded data removed]",
      "text/plain": [
       "<Figure size 432x288 with 1 Axes>"
      ]
     },
     "metadata": {
      "needs_background": "light"
     },
     "output_type": "display_data"
    }
   ],
   "source": [
    "import matplotlib.pyplot as plt\n",
    "plt.plot(scores)"
   ]
  },
  {
   "cell_type": "code",
   "execution_count": 3,
   "metadata": {},
   "outputs": [
    {
     "name": "stdout",
     "output_type": "stream",
     "text": [
      "Episode: 9 , score: 500"
     ]
    }
   ],
   "source": [
    "# watch the agent play game\n",
    "env = gym.make('CartPole-v1')\n",
    "done = False\n",
    "observation_space = env.observation_space.shape[0]\n",
    "action_space = env.action_space.n\n",
    "reward = 0\n",
    "# trained for 500 episodes\n",
    "qnetwork = load_model('models/model_cartpole.hdf5')\n",
    "for episode in range(10):\n",
    "    state = env.reset()\n",
    "    state = np.reshape(state, [1, observation_space])\n",
    "    done = False\n",
    "    reward = 0\n",
    "    step = 0\n",
    "    while True:\n",
    "        step += 1\n",
    "        env.render()\n",
    "        action = np.argmax(qnetwork.predict(state))\n",
    "        state, reward, done, info = env.step(action)\n",
    "        state = np.reshape(state, [1, observation_space])\n",
    "        if done:\n",
    "            print(\"\\rEpisode:\", episode,\", score:\" ,step, end=\"\")\n",
    "            break\n",
    "env.close()"
   ]
  }
 ],
 "metadata": {
  "kernelspec": {
   "display_name": "Python [conda env:rl]",
   "language": "python",
   "name": "conda-env-rl-py"
  },
  "language_info": {
   "codemirror_mode": {
    "name": "ipython",
    "version": 3
   },
   "file_extension": ".py",
   "mimetype": "text/x-python",
   "name": "python",
   "nbconvert_exporter": "python",
   "pygments_lexer": "ipython3",
   "version": "3.7.3"
  }
 },
 "nbformat": 4,
 "nbformat_minor": 2
}
